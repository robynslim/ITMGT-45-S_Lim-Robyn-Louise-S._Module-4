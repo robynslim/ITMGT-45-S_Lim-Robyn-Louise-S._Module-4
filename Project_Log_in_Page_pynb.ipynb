{
  "nbformat": 4,
  "nbformat_minor": 0,
  "metadata": {
    "colab": {
      "provenance": []
    },
    "kernelspec": {
      "name": "python3",
      "display_name": "Python 3"
    },
    "language_info": {
      "name": "python"
    }
  },
  "cells": [
    {
      "cell_type": "code",
      "execution_count": null,
      "metadata": {
        "colab": {
          "base_uri": "https://localhost:8080/"
        },
        "id": "IYlT9NsgAEer",
        "outputId": "77e2651f-dbbd-4afd-ca3f-3169c3617d43"
      },
      "outputs": [
        {
          "output_type": "stream",
          "name": "stdout",
          "text": [
            " * Serving Flask app '__main__'\n",
            " * Debug mode: on\n"
          ]
        },
        {
          "output_type": "stream",
          "name": "stderr",
          "text": [
            "INFO:werkzeug:\u001b[31m\u001b[1mWARNING: This is a development server. Do not use it in a production deployment. Use a production WSGI server instead.\u001b[0m\n",
            " * Running on http://127.0.0.1:5000\n",
            "INFO:werkzeug:\u001b[33mPress CTRL+C to quit\u001b[0m\n",
            "INFO:werkzeug: * Restarting with stat\n"
          ]
        }
      ],
      "source": [
        "# Import necessary modules\n",
        "from flask import Flask, render_template, request, session, redirect\n",
        "\n",
        "# Create a Flask web app instance\n",
        "app = Flask(__name__)\n",
        "app.secret_key = 'secret-key'\n",
        "\n",
        "# Define a dictionary of users with their email and password\n",
        "users = {'user1@example.com': 'password1', 'user2@example.com': 'password2'}\n",
        "\n",
        "# Define the login route\n",
        "@app.route('/', methods=['GET', 'POST'])\n",
        "def login():\n",
        "    # Check if the user is already logged in\n",
        "    if 'email' in session:\n",
        "        return redirect('/dashboard')\n",
        "\n",
        "    # If the user submitted the login form\n",
        "    if request.method == 'POST':\n",
        "        email = request.form['email']\n",
        "        password = request.form['password']\n",
        "        if email in users and users[email] == password:\n",
        "            session['email'] = email\n",
        "            return redirect('/dashboard')\n",
        "        else:\n",
        "            error = 'Invalid email or password. Please try again.'\n",
        "            return render_template('login.html', error=error)\n",
        "\n",
        "    # If the user accessed the login page via GET request\n",
        "    return render_template('login.html')\n",
        "\n",
        "# Define the dashboard route\n",
        "@app.route('/dashboard')\n",
        "def dashboard():\n",
        "    # Check if the user is logged in\n",
        "    if 'email' not in session:\n",
        "        return redirect('/')\n",
        "\n",
        "    # Get the user's email from the session\n",
        "    email = session['email']\n",
        "\n",
        "    # Render the appropriate template based on the user's role\n",
        "    if email == 'user1@example.com':\n",
        "        return render_template('payroll_master.html')\n",
        "    elif email == 'user2@example.com':\n",
        "        return render_template('employee.html')\n",
        "    else:\n",
        "        error = 'Invalid email. Please try again.'\n",
        "        return redirect('/')\n",
        "\n",
        "# Define the logout route\n",
        "@app.route('/logout')\n",
        "def logout():\n",
        "    # Clear the session\n",
        "    session.clear()\n",
        "    return redirect('/')\n",
        "\n",
        "if __name__ == '__main__':\n",
        "    app.run(debug=True)\n"
      ]
    }
  ]
}